{
 "cells": [
  {
   "cell_type": "code",
   "execution_count": 1,
   "metadata": {
    "collapsed": true
   },
   "outputs": [],
   "source": [
    "import random\n",
    "from math import pi\n",
    "import numpy as np\n",
    "import matplotlib.pyplot as plt"
   ]
  },
  {
   "cell_type": "code",
   "execution_count": 2,
   "metadata": {
    "collapsed": true
   },
   "outputs": [],
   "source": [
    "def if_in_circle(x, y):\n",
    "    return int(x**2 + y**2 <= 1)"
   ]
  },
  {
   "cell_type": "code",
   "execution_count": 3,
   "metadata": {
    "collapsed": true
   },
   "outputs": [],
   "source": [
    "def get_a_sample():\n",
    "    x = random.random()\n",
    "    y = random.random()\n",
    "    return x, y"
   ]
  },
  {
   "cell_type": "code",
   "execution_count": 4,
   "metadata": {
    "collapsed": true
   },
   "outputs": [],
   "source": [
    "def update(count, count_in_circle):\n",
    "    x, y = get_a_sample()\n",
    "    count_in_circle += if_in_circle(x, y)\n",
    "    count += 1\n",
    "    return(count, count_in_circle)"
   ]
  },
  {
   "cell_type": "code",
   "execution_count": 5,
   "metadata": {
    "collapsed": true
   },
   "outputs": [],
   "source": [
    "def error_cal(estimate):\n",
    "    return abs(estimate - pi / 4)"
   ]
  },
  {
   "cell_type": "code",
   "execution_count": 6,
   "metadata": {
    "collapsed": true,
    "scrolled": false
   },
   "outputs": [],
   "source": [
    "errors = np.array([0.0] * 100)\n",
    "N = 1000000\n",
    "num_exp = 2\n",
    "\n",
    "\n",
    "for _ in range(num_exp):\n",
    "    count = count_in_circle = error_index = 0\n",
    "    error_exp = np.array([0.0] * 100)\n",
    "    for index in range(1, N + 1):\n",
    "        count, count_in_circle = update(count, count_in_circle)\n",
    "        pi_estimate = count_in_circle / count\n",
    "        if index & (index - 1) == 0:\n",
    "            current_error = error_cal(pi_estimate)\n",
    "            errors[error_index] += current_error\n",
    "            error_exp[error_index] = current_error\n",
    "            error_index += 1\n",
    "    plt.loglog(np.logspace(start = 0, stop = 99, num = 100, base = 2), error_exp, '-')\n",
    "plt.grid(True)\n",
    "plt.xlabel('Number of samples')\n",
    "plt.ylabel('Empirical mean of error')\n",
    "plt.xlim((0, 1e6))\n",
    "plt.show()    \n",
    "    \n",
    "errors = errors / float(num_exp)"
   ]
  },
  {
   "cell_type": "code",
   "execution_count": 7,
   "metadata": {
    "scrolled": true
   },
   "outputs": [
    {
     "data": {
      "image/png": "[encoded data removed]",
      "text/plain": [
       "<matplotlib.figure.Figure at 0x28a39189710>"
      ]
     },
     "metadata": {},
     "output_type": "display_data"
    }
   ],
   "source": [
    "plt.loglog(np.logspace(start = 0, stop = 99, num = 100, base = 2), errors, 'o')\n",
    "plt.grid(True)\n",
    "plt.xlabel('Number of samples')\n",
    "plt.ylabel('Empirical mean of error')\n",
    "plt.xlim((0, 1e6))\n",
    "plt.show()"
   ]
  },
  {
   "cell_type": "markdown",
   "metadata": {},
   "source": [
    "The result is consistent with Central Limit Theorem, namely $error \\sim \\sqrt{N}$"
   ]
  }
 ],
 "metadata": {
  "kernelspec": {
   "display_name": "Python 3",
   "language": "python",
   "name": "python3"
  },
  "language_info": {
   "codemirror_mode": {
    "name": "ipython",
    "version": 3
   },
   "file_extension": ".py",
   "mimetype": "text/x-python",
   "name": "python",
   "nbconvert_exporter": "python",
   "pygments_lexer": "ipython3",
   "version": "3.6.1"
  }
 },
 "nbformat": 4,
 "nbformat_minor": 2
}
